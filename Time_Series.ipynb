{
 "cells": [
  {
   "cell_type": "code",
   "execution_count": null,
   "metadata": {
    "colab": {
     "base_uri": "https://localhost:8080/"
    },
    "id": "5uLhy5b25O_c",
    "outputId": "43b1fe4d-b258-4f06-9556-7d3a4e7d7949"
   },
   "outputs": [
    {
     "name": "stdout",
     "output_type": "stream",
     "text": [
      "Found GPU at: /device:GPU:0\n"
     ]
    }
   ],
   "source": [
    "%tensorflow_version 2.x\n",
    "import tensorflow as tf\n",
    "device_name = tf.test.gpu_device_name()\n",
    "if device_name != '/device:GPU:0':\n",
    "  raise SystemError('GPU device not found')\n",
    "print('Found GPU at: {}'.format(device_name))"
   ]
  },
  {
   "cell_type": "code",
   "execution_count": 2,
   "metadata": {
    "colab": {
     "base_uri": "https://localhost:8080/",
     "height": 235
    },
    "id": "QjnjOB_letVS",
    "outputId": "0acfc122-4ced-4e01-c33e-6c558c143acf"
   },
   "outputs": [
    {
     "data": {
      "text/html": [
       "<div>\n",
       "<style scoped>\n",
       "    .dataframe tbody tr th:only-of-type {\n",
       "        vertical-align: middle;\n",
       "    }\n",
       "\n",
       "    .dataframe tbody tr th {\n",
       "        vertical-align: top;\n",
       "    }\n",
       "\n",
       "    .dataframe thead th {\n",
       "        text-align: right;\n",
       "    }\n",
       "</style>\n",
       "<table border=\"1\" class=\"dataframe\">\n",
       "  <thead>\n",
       "    <tr style=\"text-align: right;\">\n",
       "      <th></th>\n",
       "      <th>Megaliters</th>\n",
       "    </tr>\n",
       "    <tr>\n",
       "      <th>Month</th>\n",
       "      <th></th>\n",
       "    </tr>\n",
       "  </thead>\n",
       "  <tbody>\n",
       "    <tr>\n",
       "      <th>1956-01-01</th>\n",
       "      <td>93.2</td>\n",
       "    </tr>\n",
       "    <tr>\n",
       "      <th>1956-02-01</th>\n",
       "      <td>96.0</td>\n",
       "    </tr>\n",
       "    <tr>\n",
       "      <th>1956-03-01</th>\n",
       "      <td>95.2</td>\n",
       "    </tr>\n",
       "    <tr>\n",
       "      <th>1956-04-01</th>\n",
       "      <td>77.1</td>\n",
       "    </tr>\n",
       "    <tr>\n",
       "      <th>1956-05-01</th>\n",
       "      <td>70.9</td>\n",
       "    </tr>\n",
       "  </tbody>\n",
       "</table>\n",
       "</div>"
      ],
      "text/plain": [
       "            Megaliters\n",
       "Month                 \n",
       "1956-01-01        93.2\n",
       "1956-02-01        96.0\n",
       "1956-03-01        95.2\n",
       "1956-04-01        77.1\n",
       "1956-05-01        70.9"
      ]
     },
     "execution_count": 2,
     "metadata": {
      "tags": []
     },
     "output_type": "execute_result"
    }
   ],
   "source": [
    "import pandas as pd\n",
    "import seaborn as sns\n",
    "df = pd.read_csv(\"https://raw.githubusercontent.com/firmai/random-assets-two/master/ts/monthly-beer-australia.csv\")\n",
    "df.Month = pd.to_datetime(df.Month)\n",
    "df = df.set_index(\"Month\")\n",
    "df.head()"
   ]
  },
  {
   "cell_type": "code",
   "execution_count": 3,
   "metadata": {
    "colab": {
     "base_uri": "https://localhost:8080/"
    },
    "id": "9K_YU202HCjR",
    "outputId": "2a31dc35-7fb3-4c87-a76d-451a0e5e03f1"
   },
   "outputs": [
    {
     "name": "stdout",
     "output_type": "stream",
     "text": [
      "Collecting holidays==0.9.12\n",
      "\u001b[?25l  Downloading https://files.pythonhosted.org/packages/51/2c/5289263b6bb3a1ac51ddfd1f631947e2636ad9ebe8ac5e88ec37bceffc11/holidays-0.9.12.tar.gz (85kB)\n",
      "\r",
      "\u001b[K     |███▉                            | 10kB 18.2MB/s eta 0:00:01\r",
      "\u001b[K     |███████▋                        | 20kB 20.4MB/s eta 0:00:01\r",
      "\u001b[K     |███████████▌                    | 30kB 23.3MB/s eta 0:00:01\r",
      "\u001b[K     |███████████████▎                | 40kB 25.2MB/s eta 0:00:01\r",
      "\u001b[K     |███████████████████▏            | 51kB 26.7MB/s eta 0:00:01\r",
      "\u001b[K     |███████████████████████         | 61kB 27.2MB/s eta 0:00:01\r",
      "\u001b[K     |██████████████████████████▊     | 71kB 23.5MB/s eta 0:00:01\r",
      "\u001b[K     |██████████████████████████████▋ | 81kB 21.8MB/s eta 0:00:01\r",
      "\u001b[K     |████████████████████████████████| 92kB 8.7MB/s \n",
      "\u001b[?25hRequirement already satisfied: python-dateutil in /usr/local/lib/python3.7/dist-packages (from holidays==0.9.12) (2.8.0)\n",
      "Requirement already satisfied: six in /usr/local/lib/python3.7/dist-packages (from holidays==0.9.12) (1.15.0)\n",
      "Building wheels for collected packages: holidays\n",
      "  Building wheel for holidays (setup.py) ... \u001b[?25l\u001b[?25hdone\n",
      "  Created wheel for holidays: filename=holidays-0.9.12-cp37-none-any.whl size=47610 sha256=dfd2b865b60e1613018b0da52fdfe20ed5bef8726fd002dfae16957af7412b44\n",
      "  Stored in directory: /root/.cache/pip/wheels/1f/fd/3a/f29866dc23dada18f25e9837477c82bbd7952aeef86fa46f11\n",
      "Successfully built holidays\n",
      "Installing collected packages: holidays\n",
      "  Found existing installation: holidays 0.10.5.2\n",
      "    Uninstalling holidays-0.10.5.2:\n",
      "      Successfully uninstalled holidays-0.10.5.2\n",
      "Successfully installed holidays-0.9.12\n"
     ]
    }
   ],
   "source": [
    "!pip install holidays==0.9.12"
   ]
  },
  {
   "cell_type": "code",
   "execution_count": 4,
   "metadata": {
    "colab": {
     "base_uri": "https://localhost:8080/"
    },
    "id": "-Rw-az06e4xy",
    "outputId": "0e73a8bb-637a-434c-8c95-71151be0b3c6"
   },
   "outputs": [
    {
     "name": "stderr",
     "output_type": "stream",
     "text": [
      "INFO:root:Using GPU\n"
     ]
    }
   ],
   "source": [
    "from atspy import AutomatedModel"
   ]
  },
  {
   "cell_type": "code",
   "execution_count": 5,
   "metadata": {
    "id": "Xs3nkunLhyXa"
   },
   "outputs": [],
   "source": [
    "model_list=[\"ARIMA\",\"Gluonts\",\"Prophet\",\"NBEATS\", \"TATS\", \"TBATS1\", \"TBATP1\", \"TBATS2\"]"
   ]
  },
  {
   "cell_type": "code",
   "execution_count": null,
   "metadata": {
    "colab": {
     "base_uri": "https://localhost:8080/"
    },
    "id": "ObJhKxOZh9hL",
    "outputId": "31cb8f96-d546-4dd7-f2da-a4d1e48d749f"
   },
   "outputs": [
    {
     "name": "stdout",
     "output_type": "stream",
     "text": [
      "<class 'pandas.core.frame.DataFrame'>\n",
      "The data has been successfully parsed by infering a frequency, and establishing a 'Date' index and 'Target' column.\n",
      "357\n",
      "An insample split of training size 357 and testing size 119 has been constructed\n",
      "Model ARIMA is being trained for in sample prediction\n"
     ]
    },
    {
     "name": "stderr",
     "output_type": "stream",
     "text": [
      "INFO:root:Start model training\n"
     ]
    },
    {
     "name": "stdout",
     "output_type": "stream",
     "text": [
      "Model Gluonts is being trained for in sample prediction\n"
     ]
    },
    {
     "name": "stderr",
     "output_type": "stream",
     "text": [
      "INFO:root:Epoch[0] Learning rate is 0.001\n",
      "  0%|          | 0/50 [00:00<?, ?it/s]INFO:numexpr.utils:NumExpr defaulting to 2 threads.\n",
      "INFO:root:Number of parameters in DeepARTrainingNetwork: 23324\n",
      "100%|██████████| 50/50 [00:11<00:00,  4.44it/s, avg_epoch_loss=4.82]\n",
      "INFO:root:Epoch[0] Elapsed time 11.265 seconds\n",
      "INFO:root:Epoch[0] Evaluation metric 'epoch_loss'=4.816367\n",
      "INFO:root:Epoch[1] Learning rate is 0.001\n",
      "100%|██████████| 50/50 [00:09<00:00,  5.12it/s, avg_epoch_loss=3.79]\n",
      "INFO:root:Epoch[1] Elapsed time 9.779 seconds\n",
      "INFO:root:Epoch[1] Evaluation metric 'epoch_loss'=3.790496\n",
      "INFO:root:Epoch[2] Learning rate is 0.001\n",
      "100%|██████████| 50/50 [00:10<00:00,  4.95it/s, avg_epoch_loss=3.58]\n",
      "INFO:root:Epoch[2] Elapsed time 10.108 seconds\n",
      "INFO:root:Epoch[2] Evaluation metric 'epoch_loss'=3.583661\n",
      "INFO:root:Epoch[3] Learning rate is 0.001\n",
      "100%|██████████| 50/50 [00:09<00:00,  5.04it/s, avg_epoch_loss=3.47]\n",
      "INFO:root:Epoch[3] Elapsed time 9.916 seconds\n",
      "INFO:root:Epoch[3] Evaluation metric 'epoch_loss'=3.473165\n",
      "INFO:root:Epoch[4] Learning rate is 0.001\n",
      "100%|██████████| 50/50 [00:10<00:00,  4.98it/s, avg_epoch_loss=3.42]\n",
      "INFO:root:Epoch[4] Elapsed time 10.041 seconds\n",
      "INFO:root:Epoch[4] Evaluation metric 'epoch_loss'=3.421157\n",
      "INFO:root:Epoch[5] Learning rate is 0.001\n",
      "100%|██████████| 50/50 [00:10<00:00,  4.78it/s, avg_epoch_loss=3.4]\n",
      "INFO:root:Epoch[5] Elapsed time 10.471 seconds\n",
      "INFO:root:Epoch[5] Evaluation metric 'epoch_loss'=3.398034\n",
      "INFO:root:Loading parameters from best epoch (5)\n",
      "INFO:root:Final loss: 3.3980340242385862 (occurred at epoch 5)\n",
      "INFO:root:End model training\n",
      "INFO:fbprophet:Disabling weekly seasonality. Run prophet with weekly_seasonality=True to override this.\n",
      "INFO:fbprophet:Disabling daily seasonality. Run prophet with daily_seasonality=True to override this.\n"
     ]
    },
    {
     "name": "stdout",
     "output_type": "stream",
     "text": [
      "Model Prophet is being trained for in sample prediction\n",
      "Model NBEATS is being trained for in sample prediction\n",
      "| N-Beats\n",
      "| --  Stack Generic (#0) (share_weights_in_stack=False)\n",
      "     | -- GenericBlock(units=128, thetas_dim=7, backcast_length=119, forecast_length=119, share_thetas=False) at @139970808074064\n",
      "     | -- GenericBlock(units=128, thetas_dim=7, backcast_length=119, forecast_length=119, share_thetas=False) at @139970807692432\n",
      "     | -- GenericBlock(units=128, thetas_dim=7, backcast_length=119, forecast_length=119, share_thetas=False) at @139970808286352\n",
      "| --  Stack Generic (#1) (share_weights_in_stack=False)\n",
      "     | -- GenericBlock(units=128, thetas_dim=8, backcast_length=119, forecast_length=119, share_thetas=False) at @139970807773264\n",
      "     | -- GenericBlock(units=128, thetas_dim=8, backcast_length=119, forecast_length=119, share_thetas=False) at @139970807773520\n",
      "     | -- GenericBlock(units=128, thetas_dim=8, backcast_length=119, forecast_length=119, share_thetas=False) at @139970807773776\n",
      "Model TATS is being trained for in sample prediction\n",
      "The following set of plausible SSA seasonalities have been identified: {12}\n",
      "Model TBATS1 is being trained for in sample prediction\n",
      "Model TBATP1 is being trained for in sample prediction\n",
      "Model TBATS2 is being trained for in sample prediction\n",
      "The following set of plausible SSA seasonalities have been identified: {12, 4}\n",
      "Model ARIMA is being used to forcast in sample\n",
      "Model Gluonts is being used to forcast in sample\n",
      "Model Prophet is being used to forcast in sample\n",
      "Model NBEATS is being used to forcast in sample\n",
      "Model TATS is being used to forcast in sample\n",
      "Model TBATS1 is being used to forcast in sample\n",
      "Model TBATP1 is being used to forcast in sample\n",
      "Model TBATS2 is being used to forcast in sample\n",
      "Successfully finished in sample forecast\n",
      "<class 'pandas.core.frame.DataFrame'>\n",
      "The data has been successfully parsed by infering a frequency, and establishing a 'Date' index and 'Target' column.\n",
      "Model ARIMA is being trained for out of sample prediction\n"
     ]
    },
    {
     "name": "stderr",
     "output_type": "stream",
     "text": [
      "INFO:root:Start model training\n",
      "INFO:root:Epoch[0] Learning rate is 0.001\n",
      "  0%|          | 0/50 [00:00<?, ?it/s]"
     ]
    },
    {
     "name": "stdout",
     "output_type": "stream",
     "text": [
      "Model Gluonts is being trained for out of sample prediction\n"
     ]
    },
    {
     "name": "stderr",
     "output_type": "stream",
     "text": [
      "INFO:root:Number of parameters in DeepARTrainingNetwork: 23324\n",
      "100%|██████████| 50/50 [00:05<00:00,  8.79it/s, avg_epoch_loss=5.16]\n",
      "INFO:root:Epoch[0] Elapsed time 5.691 seconds\n",
      "INFO:root:Epoch[0] Evaluation metric 'epoch_loss'=5.161517\n",
      "INFO:root:Epoch[1] Learning rate is 0.001\n",
      "100%|██████████| 50/50 [00:05<00:00,  9.28it/s, avg_epoch_loss=3.97]\n",
      "INFO:root:Epoch[1] Elapsed time 5.391 seconds\n",
      "INFO:root:Epoch[1] Evaluation metric 'epoch_loss'=3.965395\n",
      "INFO:root:Epoch[2] Learning rate is 0.001\n",
      "100%|██████████| 50/50 [00:05<00:00,  9.26it/s, avg_epoch_loss=3.77]\n",
      "INFO:root:Epoch[2] Elapsed time 5.405 seconds\n",
      "INFO:root:Epoch[2] Evaluation metric 'epoch_loss'=3.771550\n",
      "INFO:root:Epoch[3] Learning rate is 0.001\n",
      "100%|██████████| 50/50 [00:05<00:00,  9.66it/s, avg_epoch_loss=3.72]\n",
      "INFO:root:Epoch[3] Elapsed time 5.180 seconds\n",
      "INFO:root:Epoch[3] Evaluation metric 'epoch_loss'=3.716913\n",
      "INFO:root:Epoch[4] Learning rate is 0.001\n",
      "100%|██████████| 50/50 [00:05<00:00,  9.38it/s, avg_epoch_loss=3.7]\n",
      "INFO:root:Epoch[4] Elapsed time 5.335 seconds\n",
      "INFO:root:Epoch[4] Evaluation metric 'epoch_loss'=3.697020\n",
      "INFO:root:Epoch[5] Learning rate is 0.001\n",
      "100%|██████████| 50/50 [00:05<00:00,  9.08it/s, avg_epoch_loss=3.66]\n",
      "INFO:root:Epoch[5] Elapsed time 5.509 seconds\n",
      "INFO:root:Epoch[5] Evaluation metric 'epoch_loss'=3.662952\n",
      "INFO:root:Loading parameters from best epoch (5)\n",
      "INFO:root:Final loss: 3.662952299118042 (occurred at epoch 5)\n",
      "INFO:root:End model training\n",
      "INFO:fbprophet:Disabling weekly seasonality. Run prophet with weekly_seasonality=True to override this.\n",
      "INFO:fbprophet:Disabling daily seasonality. Run prophet with daily_seasonality=True to override this.\n"
     ]
    },
    {
     "name": "stdout",
     "output_type": "stream",
     "text": [
      "Model Prophet is being trained for out of sample prediction\n",
      "Model NBEATS is being trained for out of sample prediction\n",
      "| N-Beats\n",
      "| --  Stack Generic (#0) (share_weights_in_stack=False)\n",
      "     | -- GenericBlock(units=128, thetas_dim=7, backcast_length=60, forecast_length=60, share_thetas=False) at @139970891875792\n",
      "     | -- GenericBlock(units=128, thetas_dim=7, backcast_length=60, forecast_length=60, share_thetas=False) at @139970836646928\n",
      "     | -- GenericBlock(units=128, thetas_dim=7, backcast_length=60, forecast_length=60, share_thetas=False) at @139970836644176\n",
      "| --  Stack Generic (#1) (share_weights_in_stack=False)\n",
      "     | -- GenericBlock(units=128, thetas_dim=8, backcast_length=60, forecast_length=60, share_thetas=False) at @139970891248272\n",
      "     | -- GenericBlock(units=128, thetas_dim=8, backcast_length=60, forecast_length=60, share_thetas=False) at @139970891700560\n",
      "     | -- GenericBlock(units=128, thetas_dim=8, backcast_length=60, forecast_length=60, share_thetas=False) at @139970891698704\n",
      "Model TATS is being trained for out of sample prediction\n",
      "The following set of plausible SSA seasonalities have been identified: {12}\n",
      "Model TBATS1 is being trained for out of sample prediction\n",
      "Model TBATP1 is being trained for out of sample prediction\n",
      "Model TBATS2 is being trained for out of sample prediction\n",
      "The following set of plausible SSA seasonalities have been identified: {12, 4}\n",
      "Model ARIMA is being used to forcast out of sample\n",
      "Model Gluonts is being used to forcast out of sample\n",
      "Model Prophet is being used to forcast out of sample\n",
      "Model NBEATS is being used to forcast out of sample\n",
      "Model TATS is being used to forcast out of sample\n",
      "Model TBATS1 is being used to forcast out of sample\n",
      "Model TBATP1 is being used to forcast out of sample\n",
      "Model TBATS2 is being used to forcast out of sample\n",
      "Successfully finished out of sample forecast\n",
      "Building LightGBM Ensemble from TS data (ensemble_lgb)\n",
      "Building LightGBM Ensemble from PCA reduced TSFresh Features (ensemble_ts). This can take a long time.\n",
      "LightGBM ensemble have been successfully built\n",
      "728  variables are found to be almost constant\n",
      "LightGBM ensemble have been successfully built\n",
      "Building Standard First Level Ensemble\n",
      "Building Final Multi-level Ensemble\n"
     ]
    }
   ],
   "source": [
    "am = AutomatedModel(df = df , model_list=model_list, season=\"infer_from_data\",forecast_len=60 )\n",
    "forecast_in, performance = am.forecast_insample()\n",
    "forecast_out = am.forecast_outsample()\n",
    "all_ensemble_in, all_ensemble_out, all_performance = am.ensemble(forecast_in, forecast_out)"
   ]
  },
  {
   "cell_type": "code",
   "execution_count": null,
   "metadata": {
    "colab": {
     "base_uri": "https://localhost:8080/",
     "height": 235
    },
    "id": "wyg-jx8ftqs4",
    "outputId": "5f1c8611-f14c-4bc4-8021-095b9e860119"
   },
   "outputs": [
    {
     "data": {
      "text/html": [
       "<div>\n",
       "<style scoped>\n",
       "    .dataframe tbody tr th:only-of-type {\n",
       "        vertical-align: middle;\n",
       "    }\n",
       "\n",
       "    .dataframe tbody tr th {\n",
       "        vertical-align: top;\n",
       "    }\n",
       "\n",
       "    .dataframe thead th {\n",
       "        text-align: right;\n",
       "    }\n",
       "</style>\n",
       "<table border=\"1\" class=\"dataframe\">\n",
       "  <thead>\n",
       "    <tr style=\"text-align: right;\">\n",
       "      <th></th>\n",
       "      <th>Target</th>\n",
       "      <th>ARIMA</th>\n",
       "      <th>Gluonts</th>\n",
       "      <th>Prophet</th>\n",
       "      <th>NBEATS</th>\n",
       "      <th>TATS</th>\n",
       "      <th>TBATS1</th>\n",
       "      <th>TBATP1</th>\n",
       "      <th>TBATS2</th>\n",
       "    </tr>\n",
       "    <tr>\n",
       "      <th>Date</th>\n",
       "      <th></th>\n",
       "      <th></th>\n",
       "      <th></th>\n",
       "      <th></th>\n",
       "      <th></th>\n",
       "      <th></th>\n",
       "      <th></th>\n",
       "      <th></th>\n",
       "      <th></th>\n",
       "    </tr>\n",
       "  </thead>\n",
       "  <tbody>\n",
       "    <tr>\n",
       "      <th>1995-04-01</th>\n",
       "      <td>127.0</td>\n",
       "      <td>134.583193</td>\n",
       "      <td>157.936569</td>\n",
       "      <td>130.292142</td>\n",
       "      <td>140.641937</td>\n",
       "      <td>144.443071</td>\n",
       "      <td>144.443071</td>\n",
       "      <td>144.443071</td>\n",
       "      <td>150.911862</td>\n",
       "    </tr>\n",
       "    <tr>\n",
       "      <th>1995-05-01</th>\n",
       "      <td>151.0</td>\n",
       "      <td>132.588084</td>\n",
       "      <td>143.798889</td>\n",
       "      <td>127.550446</td>\n",
       "      <td>133.665329</td>\n",
       "      <td>139.038936</td>\n",
       "      <td>139.038936</td>\n",
       "      <td>139.038936</td>\n",
       "      <td>134.376430</td>\n",
       "    </tr>\n",
       "    <tr>\n",
       "      <th>1995-06-01</th>\n",
       "      <td>130.0</td>\n",
       "      <td>120.010451</td>\n",
       "      <td>137.513458</td>\n",
       "      <td>121.548336</td>\n",
       "      <td>125.070427</td>\n",
       "      <td>123.987403</td>\n",
       "      <td>123.987403</td>\n",
       "      <td>123.987403</td>\n",
       "      <td>125.768866</td>\n",
       "    </tr>\n",
       "    <tr>\n",
       "      <th>1995-07-01</th>\n",
       "      <td>119.0</td>\n",
       "      <td>128.425909</td>\n",
       "      <td>127.635979</td>\n",
       "      <td>117.271310</td>\n",
       "      <td>151.106445</td>\n",
       "      <td>133.429503</td>\n",
       "      <td>133.429503</td>\n",
       "      <td>133.429503</td>\n",
       "      <td>132.734944</td>\n",
       "    </tr>\n",
       "    <tr>\n",
       "      <th>1995-08-01</th>\n",
       "      <td>153.0</td>\n",
       "      <td>138.464141</td>\n",
       "      <td>135.842453</td>\n",
       "      <td>132.551147</td>\n",
       "      <td>150.446915</td>\n",
       "      <td>142.896517</td>\n",
       "      <td>142.896517</td>\n",
       "      <td>142.896517</td>\n",
       "      <td>142.777309</td>\n",
       "    </tr>\n",
       "  </tbody>\n",
       "</table>\n",
       "</div>"
      ],
      "text/plain": [
       "            Target       ARIMA     Gluonts  ...      TBATS1      TBATP1      TBATS2\n",
       "Date                                        ...                                    \n",
       "1995-04-01   127.0  134.583193  157.936569  ...  144.443071  144.443071  150.911862\n",
       "1995-05-01   151.0  132.588084  143.798889  ...  139.038936  139.038936  134.376430\n",
       "1995-06-01   130.0  120.010451  137.513458  ...  123.987403  123.987403  125.768866\n",
       "1995-07-01   119.0  128.425909  127.635979  ...  133.429503  133.429503  132.734944\n",
       "1995-08-01   153.0  138.464141  135.842453  ...  142.896517  142.896517  142.777309\n",
       "\n",
       "[5 rows x 9 columns]"
      ]
     },
     "execution_count": 6,
     "metadata": {
      "tags": []
     },
     "output_type": "execute_result"
    }
   ],
   "source": [
    "forecast_in.tail(n=5)"
   ]
  },
  {
   "cell_type": "code",
   "execution_count": null,
   "metadata": {
    "colab": {
     "base_uri": "https://localhost:8080/",
     "height": 235
    },
    "id": "V3Trm1oxtvA0",
    "outputId": "a8798ccb-4854-457a-be60-d927654a01ce"
   },
   "outputs": [
    {
     "data": {
      "text/html": [
       "<div>\n",
       "<style scoped>\n",
       "    .dataframe tbody tr th:only-of-type {\n",
       "        vertical-align: middle;\n",
       "    }\n",
       "\n",
       "    .dataframe tbody tr th {\n",
       "        vertical-align: top;\n",
       "    }\n",
       "\n",
       "    .dataframe thead th {\n",
       "        text-align: right;\n",
       "    }\n",
       "</style>\n",
       "<table border=\"1\" class=\"dataframe\">\n",
       "  <thead>\n",
       "    <tr style=\"text-align: right;\">\n",
       "      <th></th>\n",
       "      <th>ARIMA</th>\n",
       "      <th>Gluonts</th>\n",
       "      <th>Prophet</th>\n",
       "      <th>NBEATS</th>\n",
       "      <th>TATS</th>\n",
       "      <th>TBATS1</th>\n",
       "      <th>TBATP1</th>\n",
       "      <th>TBATS2</th>\n",
       "    </tr>\n",
       "    <tr>\n",
       "      <th>Date</th>\n",
       "      <th></th>\n",
       "      <th></th>\n",
       "      <th></th>\n",
       "      <th></th>\n",
       "      <th></th>\n",
       "      <th></th>\n",
       "      <th></th>\n",
       "      <th></th>\n",
       "    </tr>\n",
       "  </thead>\n",
       "  <tbody>\n",
       "    <tr>\n",
       "      <th>1995-09-01</th>\n",
       "      <td>131.212115</td>\n",
       "      <td>132.394989</td>\n",
       "      <td>137.994560</td>\n",
       "      <td>149.681885</td>\n",
       "      <td>139.564198</td>\n",
       "      <td>139.564198</td>\n",
       "      <td>139.564198</td>\n",
       "      <td>140.757928</td>\n",
       "    </tr>\n",
       "    <tr>\n",
       "      <th>1995-10-01</th>\n",
       "      <td>162.521890</td>\n",
       "      <td>153.348969</td>\n",
       "      <td>170.817968</td>\n",
       "      <td>186.305923</td>\n",
       "      <td>161.480924</td>\n",
       "      <td>161.480924</td>\n",
       "      <td>161.480924</td>\n",
       "      <td>156.767413</td>\n",
       "    </tr>\n",
       "    <tr>\n",
       "      <th>1995-11-01</th>\n",
       "      <td>184.214121</td>\n",
       "      <td>170.674057</td>\n",
       "      <td>172.912507</td>\n",
       "      <td>190.414474</td>\n",
       "      <td>171.056798</td>\n",
       "      <td>171.056798</td>\n",
       "      <td>171.056798</td>\n",
       "      <td>178.197184</td>\n",
       "    </tr>\n",
       "    <tr>\n",
       "      <th>1995-12-01</th>\n",
       "      <td>180.196305</td>\n",
       "      <td>163.607529</td>\n",
       "      <td>183.248530</td>\n",
       "      <td>178.920197</td>\n",
       "      <td>185.186010</td>\n",
       "      <td>185.186010</td>\n",
       "      <td>185.186010</td>\n",
       "      <td>177.288838</td>\n",
       "    </tr>\n",
       "    <tr>\n",
       "      <th>1996-01-01</th>\n",
       "      <td>149.062585</td>\n",
       "      <td>164.297485</td>\n",
       "      <td>148.942213</td>\n",
       "      <td>175.811569</td>\n",
       "      <td>152.667538</td>\n",
       "      <td>152.667538</td>\n",
       "      <td>152.667538</td>\n",
       "      <td>155.881212</td>\n",
       "    </tr>\n",
       "  </tbody>\n",
       "</table>\n",
       "</div>"
      ],
      "text/plain": [
       "                 ARIMA     Gluonts  ...      TBATP1      TBATS2\n",
       "Date                                ...                        \n",
       "1995-09-01  131.212115  132.394989  ...  139.564198  140.757928\n",
       "1995-10-01  162.521890  153.348969  ...  161.480924  156.767413\n",
       "1995-11-01  184.214121  170.674057  ...  171.056798  178.197184\n",
       "1995-12-01  180.196305  163.607529  ...  185.186010  177.288838\n",
       "1996-01-01  149.062585  164.297485  ...  152.667538  155.881212\n",
       "\n",
       "[5 rows x 8 columns]"
      ]
     },
     "execution_count": 10,
     "metadata": {
      "tags": []
     },
     "output_type": "execute_result"
    }
   ],
   "source": [
    "forecast_out.head()"
   ]
  },
  {
   "cell_type": "code",
   "execution_count": null,
   "metadata": {
    "colab": {
     "base_uri": "https://localhost:8080/",
     "height": 142
    },
    "id": "YadURyObty2p",
    "outputId": "f49ef023-05ca-49bf-a91a-f9bddb98334b"
   },
   "outputs": [
    {
     "data": {
      "text/html": [
       "<div>\n",
       "<style scoped>\n",
       "    .dataframe tbody tr th:only-of-type {\n",
       "        vertical-align: middle;\n",
       "    }\n",
       "\n",
       "    .dataframe tbody tr th {\n",
       "        vertical-align: top;\n",
       "    }\n",
       "\n",
       "    .dataframe thead th {\n",
       "        text-align: right;\n",
       "    }\n",
       "</style>\n",
       "<table border=\"1\" class=\"dataframe\">\n",
       "  <thead>\n",
       "    <tr style=\"text-align: right;\">\n",
       "      <th></th>\n",
       "      <th>Target</th>\n",
       "      <th>ARIMA</th>\n",
       "      <th>Gluonts</th>\n",
       "      <th>Prophet</th>\n",
       "      <th>NBEATS</th>\n",
       "      <th>TATS</th>\n",
       "      <th>TBATS1</th>\n",
       "      <th>TBATP1</th>\n",
       "      <th>TBATS2</th>\n",
       "    </tr>\n",
       "  </thead>\n",
       "  <tbody>\n",
       "    <tr>\n",
       "      <th>rmse</th>\n",
       "      <td>0.000000</td>\n",
       "      <td>13.098059</td>\n",
       "      <td>20.486012</td>\n",
       "      <td>14.581954</td>\n",
       "      <td>19.346444</td>\n",
       "      <td>12.478766</td>\n",
       "      <td>12.478766</td>\n",
       "      <td>12.478766</td>\n",
       "      <td>13.296183</td>\n",
       "    </tr>\n",
       "    <tr>\n",
       "      <th>mse</th>\n",
       "      <td>0.000000</td>\n",
       "      <td>171.559145</td>\n",
       "      <td>419.676685</td>\n",
       "      <td>212.633388</td>\n",
       "      <td>374.284910</td>\n",
       "      <td>155.719600</td>\n",
       "      <td>155.719600</td>\n",
       "      <td>155.719600</td>\n",
       "      <td>176.788476</td>\n",
       "    </tr>\n",
       "    <tr>\n",
       "      <th>mean</th>\n",
       "      <td>155.293277</td>\n",
       "      <td>148.256628</td>\n",
       "      <td>149.159637</td>\n",
       "      <td>147.467412</td>\n",
       "      <td>150.212372</td>\n",
       "      <td>153.335240</td>\n",
       "      <td>153.335240</td>\n",
       "      <td>153.335240</td>\n",
       "      <td>153.139068</td>\n",
       "    </tr>\n",
       "  </tbody>\n",
       "</table>\n",
       "</div>"
      ],
      "text/plain": [
       "          Target       ARIMA     Gluonts  ...      TBATS1      TBATP1      TBATS2\n",
       "rmse    0.000000   13.098059   20.486012  ...   12.478766   12.478766   13.296183\n",
       "mse     0.000000  171.559145  419.676685  ...  155.719600  155.719600  176.788476\n",
       "mean  155.293277  148.256628  149.159637  ...  153.335240  153.335240  153.139068\n",
       "\n",
       "[3 rows x 9 columns]"
      ]
     },
     "execution_count": 12,
     "metadata": {
      "tags": []
     },
     "output_type": "execute_result"
    }
   ],
   "source": [
    "performance"
   ]
  },
  {
   "cell_type": "code",
   "execution_count": null,
   "metadata": {
    "colab": {
     "base_uri": "https://localhost:8080/",
     "height": 299
    },
    "id": "J9f0ZEyFnjC4",
    "outputId": "e18e6654-0443-4626-b28a-7d1b8704197f"
   },
   "outputs": [
    {
     "data": {
      "text/plain": [
       "<matplotlib.axes._subplots.AxesSubplot at 0x7f9c19ff15f8>"
      ]
     },
     "execution_count": 18,
     "metadata": {
      "tags": []
     },
     "output_type": "execute_result"
    },
    {
     "data": {
      "image/png": "[encoded data removed]",
      "text/plain": [
       "<Figure size 792x288 with 1 Axes>"
      ]
     },
     "metadata": {
      "needs_background": "light",
      "tags": []
     },
     "output_type": "display_data"
    }
   ],
   "source": [
    "all_ensemble_in[[\"Target\",\"ARIMA\",\"Gluonts\"]].plot()\n",
    "# ,\"Prophet\",\"NBEATS\",\"TATS\",\"TBATS1\",\"TBATP1\",\"TBATS2\""
   ]
  },
  {
   "cell_type": "code",
   "execution_count": null,
   "metadata": {
    "colab": {
     "base_uri": "https://localhost:8080/",
     "height": 296
    },
    "id": "b04OzQdj7FZ3",
    "outputId": "83ff9023-dfcc-4955-86c7-7edc0cc82c9d"
   },
   "outputs": [
    {
     "data": {
      "text/plain": [
       "<matplotlib.axes._subplots.AxesSubplot at 0x7f9c0c5ba470>"
      ]
     },
     "execution_count": 23,
     "metadata": {
      "tags": []
     },
     "output_type": "execute_result"
    },
    {
     "data": {
      "image/png": "[encoded data removed]",
      "text/plain": [
       "<Figure size 792x288 with 1 Axes>"
      ]
     },
     "metadata": {
      "needs_background": "light",
      "tags": []
     },
     "output_type": "display_data"
    }
   ],
   "source": [
    "all_ensemble_out[[\"ARIMA\",\"Gluonts\"]].plot()"
   ]
  },
  {
   "cell_type": "code",
   "execution_count": null,
   "metadata": {
    "colab": {
     "base_uri": "https://localhost:8080/"
    },
    "id": "M7OuXoAF7-Ut",
    "outputId": "c7ad2a53-59ab-413f-f339-ee94ad2d93bb"
   },
   "outputs": [
    {
     "data": {
      "text/plain": [
       "{'ARIMA': ARIMA(maxiter=50, method='lbfgs', order=(2, 1, 3), out_of_sample_size=0,\n",
       "       scoring='mse', scoring_args=None, seasonal_order=(1, 0, 1, 12),\n",
       "       start_params=None, suppress_warnings=False, trend=None,\n",
       "       with_intercept=True),\n",
       " 'Gluonts': <gluonts.model.predictor.RepresentableBlockPredictor at 0x7f9c19e3e390>,\n",
       " 'NBEATS': {'constant': 217.8, 'model': NBeatsNet(\n",
       "    (parameters): ParameterList(\n",
       "        (0): Parameter containing: [torch.cuda.FloatTensor of size 128x119 (GPU 0)]\n",
       "        (1): Parameter containing: [torch.cuda.FloatTensor of size 128 (GPU 0)]\n",
       "        (2): Parameter containing: [torch.cuda.FloatTensor of size 128x128 (GPU 0)]\n",
       "        (3): Parameter containing: [torch.cuda.FloatTensor of size 128 (GPU 0)]\n",
       "        (4): Parameter containing: [torch.cuda.FloatTensor of size 128x128 (GPU 0)]\n",
       "        (5): Parameter containing: [torch.cuda.FloatTensor of size 128 (GPU 0)]\n",
       "        (6): Parameter containing: [torch.cuda.FloatTensor of size 128x128 (GPU 0)]\n",
       "        (7): Parameter containing: [torch.cuda.FloatTensor of size 128 (GPU 0)]\n",
       "        (8): Parameter containing: [torch.cuda.FloatTensor of size 7x128 (GPU 0)]\n",
       "        (9): Parameter containing: [torch.cuda.FloatTensor of size 7x128 (GPU 0)]\n",
       "        (10): Parameter containing: [torch.cuda.FloatTensor of size 119x7 (GPU 0)]\n",
       "        (11): Parameter containing: [torch.cuda.FloatTensor of size 119 (GPU 0)]\n",
       "        (12): Parameter containing: [torch.cuda.FloatTensor of size 119x7 (GPU 0)]\n",
       "        (13): Parameter containing: [torch.cuda.FloatTensor of size 119 (GPU 0)]\n",
       "        (14): Parameter containing: [torch.cuda.FloatTensor of size 128x119 (GPU 0)]\n",
       "        (15): Parameter containing: [torch.cuda.FloatTensor of size 128 (GPU 0)]\n",
       "        (16): Parameter containing: [torch.cuda.FloatTensor of size 128x128 (GPU 0)]\n",
       "        (17): Parameter containing: [torch.cuda.FloatTensor of size 128 (GPU 0)]\n",
       "        (18): Parameter containing: [torch.cuda.FloatTensor of size 128x128 (GPU 0)]\n",
       "        (19): Parameter containing: [torch.cuda.FloatTensor of size 128 (GPU 0)]\n",
       "        (20): Parameter containing: [torch.cuda.FloatTensor of size 128x128 (GPU 0)]\n",
       "        (21): Parameter containing: [torch.cuda.FloatTensor of size 128 (GPU 0)]\n",
       "        (22): Parameter containing: [torch.cuda.FloatTensor of size 7x128 (GPU 0)]\n",
       "        (23): Parameter containing: [torch.cuda.FloatTensor of size 7x128 (GPU 0)]\n",
       "        (24): Parameter containing: [torch.cuda.FloatTensor of size 119x7 (GPU 0)]\n",
       "        (25): Parameter containing: [torch.cuda.FloatTensor of size 119 (GPU 0)]\n",
       "        (26): Parameter containing: [torch.cuda.FloatTensor of size 119x7 (GPU 0)]\n",
       "        (27): Parameter containing: [torch.cuda.FloatTensor of size 119 (GPU 0)]\n",
       "        (28): Parameter containing: [torch.cuda.FloatTensor of size 128x119 (GPU 0)]\n",
       "        (29): Parameter containing: [torch.cuda.FloatTensor of size 128 (GPU 0)]\n",
       "        (30): Parameter containing: [torch.cuda.FloatTensor of size 128x128 (GPU 0)]\n",
       "        (31): Parameter containing: [torch.cuda.FloatTensor of size 128 (GPU 0)]\n",
       "        (32): Parameter containing: [torch.cuda.FloatTensor of size 128x128 (GPU 0)]\n",
       "        (33): Parameter containing: [torch.cuda.FloatTensor of size 128 (GPU 0)]\n",
       "        (34): Parameter containing: [torch.cuda.FloatTensor of size 128x128 (GPU 0)]\n",
       "        (35): Parameter containing: [torch.cuda.FloatTensor of size 128 (GPU 0)]\n",
       "        (36): Parameter containing: [torch.cuda.FloatTensor of size 7x128 (GPU 0)]\n",
       "        (37): Parameter containing: [torch.cuda.FloatTensor of size 7x128 (GPU 0)]\n",
       "        (38): Parameter containing: [torch.cuda.FloatTensor of size 119x7 (GPU 0)]\n",
       "        (39): Parameter containing: [torch.cuda.FloatTensor of size 119 (GPU 0)]\n",
       "        (40): Parameter containing: [torch.cuda.FloatTensor of size 119x7 (GPU 0)]\n",
       "        (41): Parameter containing: [torch.cuda.FloatTensor of size 119 (GPU 0)]\n",
       "        (42): Parameter containing: [torch.cuda.FloatTensor of size 128x119 (GPU 0)]\n",
       "        (43): Parameter containing: [torch.cuda.FloatTensor of size 128 (GPU 0)]\n",
       "        (44): Parameter containing: [torch.cuda.FloatTensor of size 128x128 (GPU 0)]\n",
       "        (45): Parameter containing: [torch.cuda.FloatTensor of size 128 (GPU 0)]\n",
       "        (46): Parameter containing: [torch.cuda.FloatTensor of size 128x128 (GPU 0)]\n",
       "        (47): Parameter containing: [torch.cuda.FloatTensor of size 128 (GPU 0)]\n",
       "        (48): Parameter containing: [torch.cuda.FloatTensor of size 128x128 (GPU 0)]\n",
       "        (49): Parameter containing: [torch.cuda.FloatTensor of size 128 (GPU 0)]\n",
       "        (50): Parameter containing: [torch.cuda.FloatTensor of size 8x128 (GPU 0)]\n",
       "        (51): Parameter containing: [torch.cuda.FloatTensor of size 8x128 (GPU 0)]\n",
       "        (52): Parameter containing: [torch.cuda.FloatTensor of size 119x8 (GPU 0)]\n",
       "        (53): Parameter containing: [torch.cuda.FloatTensor of size 119 (GPU 0)]\n",
       "        (54): Parameter containing: [torch.cuda.FloatTensor of size 119x8 (GPU 0)]\n",
       "        (55): Parameter containing: [torch.cuda.FloatTensor of size 119 (GPU 0)]\n",
       "        (56): Parameter containing: [torch.cuda.FloatTensor of size 128x119 (GPU 0)]\n",
       "        (57): Parameter containing: [torch.cuda.FloatTensor of size 128 (GPU 0)]\n",
       "        (58): Parameter containing: [torch.cuda.FloatTensor of size 128x128 (GPU 0)]\n",
       "        (59): Parameter containing: [torch.cuda.FloatTensor of size 128 (GPU 0)]\n",
       "        (60): Parameter containing: [torch.cuda.FloatTensor of size 128x128 (GPU 0)]\n",
       "        (61): Parameter containing: [torch.cuda.FloatTensor of size 128 (GPU 0)]\n",
       "        (62): Parameter containing: [torch.cuda.FloatTensor of size 128x128 (GPU 0)]\n",
       "        (63): Parameter containing: [torch.cuda.FloatTensor of size 128 (GPU 0)]\n",
       "        (64): Parameter containing: [torch.cuda.FloatTensor of size 8x128 (GPU 0)]\n",
       "        (65): Parameter containing: [torch.cuda.FloatTensor of size 8x128 (GPU 0)]\n",
       "        (66): Parameter containing: [torch.cuda.FloatTensor of size 119x8 (GPU 0)]\n",
       "        (67): Parameter containing: [torch.cuda.FloatTensor of size 119 (GPU 0)]\n",
       "        (68): Parameter containing: [torch.cuda.FloatTensor of size 119x8 (GPU 0)]\n",
       "        (69): Parameter containing: [torch.cuda.FloatTensor of size 119 (GPU 0)]\n",
       "        (70): Parameter containing: [torch.cuda.FloatTensor of size 128x119 (GPU 0)]\n",
       "        (71): Parameter containing: [torch.cuda.FloatTensor of size 128 (GPU 0)]\n",
       "        (72): Parameter containing: [torch.cuda.FloatTensor of size 128x128 (GPU 0)]\n",
       "        (73): Parameter containing: [torch.cuda.FloatTensor of size 128 (GPU 0)]\n",
       "        (74): Parameter containing: [torch.cuda.FloatTensor of size 128x128 (GPU 0)]\n",
       "        (75): Parameter containing: [torch.cuda.FloatTensor of size 128 (GPU 0)]\n",
       "        (76): Parameter containing: [torch.cuda.FloatTensor of size 128x128 (GPU 0)]\n",
       "        (77): Parameter containing: [torch.cuda.FloatTensor of size 128 (GPU 0)]\n",
       "        (78): Parameter containing: [torch.cuda.FloatTensor of size 8x128 (GPU 0)]\n",
       "        (79): Parameter containing: [torch.cuda.FloatTensor of size 8x128 (GPU 0)]\n",
       "        (80): Parameter containing: [torch.cuda.FloatTensor of size 119x8 (GPU 0)]\n",
       "        (81): Parameter containing: [torch.cuda.FloatTensor of size 119 (GPU 0)]\n",
       "        (82): Parameter containing: [torch.cuda.FloatTensor of size 119x8 (GPU 0)]\n",
       "        (83): Parameter containing: [torch.cuda.FloatTensor of size 119 (GPU 0)]\n",
       "    )\n",
       "  ), 'x_test': array([[0.80762167, 0.60881543, 0.56795225, ..., 0.71900826, 0.76538108,\n",
       "          0.71992654],\n",
       "         [0.60881543, 0.56795225, 0.70385675, ..., 0.76538108, 0.71992654,\n",
       "          0.728191  ],\n",
       "         [0.56795225, 0.70385675, 0.61524334, ..., 0.71992654, 0.728191  ,\n",
       "          0.96786042],\n",
       "         ...,\n",
       "         [0.65289256, 0.86501377, 0.7630854 , ..., 0.66437098, 0.56749311,\n",
       "          0.69605142],\n",
       "         [0.86501377, 0.7630854 , 0.91460055, ..., 0.56749311, 0.69605142,\n",
       "          0.61478421],\n",
       "         [0.7630854 , 0.91460055, 0.83884298, ..., 0.69605142, 0.61478421,\n",
       "          0.63085399]]), 'y_test': array([[0.728191  , 0.96786042, 0.93480257, ..., 0.68181818, 0.68135904,\n",
       "          0.6134068 ],\n",
       "         [0.96786042, 0.93480257, 0.80440771, ..., 0.68135904, 0.6134068 ,\n",
       "          0.89118457],\n",
       "         [0.93480257, 0.80440771, 0.77456382, ..., 0.6134068 , 0.89118457,\n",
       "          0.95775941],\n",
       "         ...,\n",
       "         [0.61478421, 0.63085399, 0.83379247, ..., 0.58310376, 0.6932966 ,\n",
       "          0.59687787],\n",
       "         [0.63085399, 0.83379247, 0.83562902, ..., 0.6932966 , 0.59687787,\n",
       "          0.54637282],\n",
       "         [0.83379247, 0.83562902, 0.87235996, ..., 0.59687787, 0.54637282,\n",
       "          0.70247934]])},\n",
       " 'Prophet': <fbprophet.forecaster.Prophet at 0x7f9c14131a58>,\n",
       " 'TATS': <tbats.tbats.Model.Model at 0x7f9c140410f0>,\n",
       " 'TBATP1': <tbats.tbats.Model.Model at 0x7f9c14080d68>,\n",
       " 'TBATS1': <tbats.tbats.Model.Model at 0x7f9c140a8470>,\n",
       " 'TBATS2': <tbats.tbats.Model.Model at 0x7f9c1ddb8710>}"
      ]
     },
     "execution_count": 24,
     "metadata": {
      "tags": []
     },
     "output_type": "execute_result"
    }
   ],
   "source": [
    "am.models_dict_in"
   ]
  },
  {
   "cell_type": "code",
   "execution_count": null,
   "metadata": {
    "colab": {
     "base_uri": "https://localhost:8080/"
    },
    "id": "trtU4mXk8FNg",
    "outputId": "f20f3a53-35d2-4ba2-8414-fd97ec7e17a0"
   },
   "outputs": [
    {
     "data": {
      "text/plain": [
       "{'ARIMA': ARIMA(maxiter=50, method='lbfgs', order=(3, 1, 4), out_of_sample_size=0,\n",
       "       scoring='mse', scoring_args=None, seasonal_order=(2, 0, 2, 12),\n",
       "       start_params=None, suppress_warnings=False, trend=None,\n",
       "       with_intercept=True),\n",
       " 'Gluonts': <gluonts.model.predictor.RepresentableBlockPredictor at 0x7f9c1403e400>,\n",
       " 'NBEATS': {'model': NBeatsNet(\n",
       "    (parameters): ParameterList(\n",
       "        (0): Parameter containing: [torch.cuda.FloatTensor of size 128x60 (GPU 0)]\n",
       "        (1): Parameter containing: [torch.cuda.FloatTensor of size 128 (GPU 0)]\n",
       "        (2): Parameter containing: [torch.cuda.FloatTensor of size 128x128 (GPU 0)]\n",
       "        (3): Parameter containing: [torch.cuda.FloatTensor of size 128 (GPU 0)]\n",
       "        (4): Parameter containing: [torch.cuda.FloatTensor of size 128x128 (GPU 0)]\n",
       "        (5): Parameter containing: [torch.cuda.FloatTensor of size 128 (GPU 0)]\n",
       "        (6): Parameter containing: [torch.cuda.FloatTensor of size 128x128 (GPU 0)]\n",
       "        (7): Parameter containing: [torch.cuda.FloatTensor of size 128 (GPU 0)]\n",
       "        (8): Parameter containing: [torch.cuda.FloatTensor of size 7x128 (GPU 0)]\n",
       "        (9): Parameter containing: [torch.cuda.FloatTensor of size 7x128 (GPU 0)]\n",
       "        (10): Parameter containing: [torch.cuda.FloatTensor of size 60x7 (GPU 0)]\n",
       "        (11): Parameter containing: [torch.cuda.FloatTensor of size 60 (GPU 0)]\n",
       "        (12): Parameter containing: [torch.cuda.FloatTensor of size 60x7 (GPU 0)]\n",
       "        (13): Parameter containing: [torch.cuda.FloatTensor of size 60 (GPU 0)]\n",
       "        (14): Parameter containing: [torch.cuda.FloatTensor of size 128x60 (GPU 0)]\n",
       "        (15): Parameter containing: [torch.cuda.FloatTensor of size 128 (GPU 0)]\n",
       "        (16): Parameter containing: [torch.cuda.FloatTensor of size 128x128 (GPU 0)]\n",
       "        (17): Parameter containing: [torch.cuda.FloatTensor of size 128 (GPU 0)]\n",
       "        (18): Parameter containing: [torch.cuda.FloatTensor of size 128x128 (GPU 0)]\n",
       "        (19): Parameter containing: [torch.cuda.FloatTensor of size 128 (GPU 0)]\n",
       "        (20): Parameter containing: [torch.cuda.FloatTensor of size 128x128 (GPU 0)]\n",
       "        (21): Parameter containing: [torch.cuda.FloatTensor of size 128 (GPU 0)]\n",
       "        (22): Parameter containing: [torch.cuda.FloatTensor of size 7x128 (GPU 0)]\n",
       "        (23): Parameter containing: [torch.cuda.FloatTensor of size 7x128 (GPU 0)]\n",
       "        (24): Parameter containing: [torch.cuda.FloatTensor of size 60x7 (GPU 0)]\n",
       "        (25): Parameter containing: [torch.cuda.FloatTensor of size 60 (GPU 0)]\n",
       "        (26): Parameter containing: [torch.cuda.FloatTensor of size 60x7 (GPU 0)]\n",
       "        (27): Parameter containing: [torch.cuda.FloatTensor of size 60 (GPU 0)]\n",
       "        (28): Parameter containing: [torch.cuda.FloatTensor of size 128x60 (GPU 0)]\n",
       "        (29): Parameter containing: [torch.cuda.FloatTensor of size 128 (GPU 0)]\n",
       "        (30): Parameter containing: [torch.cuda.FloatTensor of size 128x128 (GPU 0)]\n",
       "        (31): Parameter containing: [torch.cuda.FloatTensor of size 128 (GPU 0)]\n",
       "        (32): Parameter containing: [torch.cuda.FloatTensor of size 128x128 (GPU 0)]\n",
       "        (33): Parameter containing: [torch.cuda.FloatTensor of size 128 (GPU 0)]\n",
       "        (34): Parameter containing: [torch.cuda.FloatTensor of size 128x128 (GPU 0)]\n",
       "        (35): Parameter containing: [torch.cuda.FloatTensor of size 128 (GPU 0)]\n",
       "        (36): Parameter containing: [torch.cuda.FloatTensor of size 7x128 (GPU 0)]\n",
       "        (37): Parameter containing: [torch.cuda.FloatTensor of size 7x128 (GPU 0)]\n",
       "        (38): Parameter containing: [torch.cuda.FloatTensor of size 60x7 (GPU 0)]\n",
       "        (39): Parameter containing: [torch.cuda.FloatTensor of size 60 (GPU 0)]\n",
       "        (40): Parameter containing: [torch.cuda.FloatTensor of size 60x7 (GPU 0)]\n",
       "        (41): Parameter containing: [torch.cuda.FloatTensor of size 60 (GPU 0)]\n",
       "        (42): Parameter containing: [torch.cuda.FloatTensor of size 128x60 (GPU 0)]\n",
       "        (43): Parameter containing: [torch.cuda.FloatTensor of size 128 (GPU 0)]\n",
       "        (44): Parameter containing: [torch.cuda.FloatTensor of size 128x128 (GPU 0)]\n",
       "        (45): Parameter containing: [torch.cuda.FloatTensor of size 128 (GPU 0)]\n",
       "        (46): Parameter containing: [torch.cuda.FloatTensor of size 128x128 (GPU 0)]\n",
       "        (47): Parameter containing: [torch.cuda.FloatTensor of size 128 (GPU 0)]\n",
       "        (48): Parameter containing: [torch.cuda.FloatTensor of size 128x128 (GPU 0)]\n",
       "        (49): Parameter containing: [torch.cuda.FloatTensor of size 128 (GPU 0)]\n",
       "        (50): Parameter containing: [torch.cuda.FloatTensor of size 8x128 (GPU 0)]\n",
       "        (51): Parameter containing: [torch.cuda.FloatTensor of size 8x128 (GPU 0)]\n",
       "        (52): Parameter containing: [torch.cuda.FloatTensor of size 60x8 (GPU 0)]\n",
       "        (53): Parameter containing: [torch.cuda.FloatTensor of size 60 (GPU 0)]\n",
       "        (54): Parameter containing: [torch.cuda.FloatTensor of size 60x8 (GPU 0)]\n",
       "        (55): Parameter containing: [torch.cuda.FloatTensor of size 60 (GPU 0)]\n",
       "        (56): Parameter containing: [torch.cuda.FloatTensor of size 128x60 (GPU 0)]\n",
       "        (57): Parameter containing: [torch.cuda.FloatTensor of size 128 (GPU 0)]\n",
       "        (58): Parameter containing: [torch.cuda.FloatTensor of size 128x128 (GPU 0)]\n",
       "        (59): Parameter containing: [torch.cuda.FloatTensor of size 128 (GPU 0)]\n",
       "        (60): Parameter containing: [torch.cuda.FloatTensor of size 128x128 (GPU 0)]\n",
       "        (61): Parameter containing: [torch.cuda.FloatTensor of size 128 (GPU 0)]\n",
       "        (62): Parameter containing: [torch.cuda.FloatTensor of size 128x128 (GPU 0)]\n",
       "        (63): Parameter containing: [torch.cuda.FloatTensor of size 128 (GPU 0)]\n",
       "        (64): Parameter containing: [torch.cuda.FloatTensor of size 8x128 (GPU 0)]\n",
       "        (65): Parameter containing: [torch.cuda.FloatTensor of size 8x128 (GPU 0)]\n",
       "        (66): Parameter containing: [torch.cuda.FloatTensor of size 60x8 (GPU 0)]\n",
       "        (67): Parameter containing: [torch.cuda.FloatTensor of size 60 (GPU 0)]\n",
       "        (68): Parameter containing: [torch.cuda.FloatTensor of size 60x8 (GPU 0)]\n",
       "        (69): Parameter containing: [torch.cuda.FloatTensor of size 60 (GPU 0)]\n",
       "        (70): Parameter containing: [torch.cuda.FloatTensor of size 128x60 (GPU 0)]\n",
       "        (71): Parameter containing: [torch.cuda.FloatTensor of size 128 (GPU 0)]\n",
       "        (72): Parameter containing: [torch.cuda.FloatTensor of size 128x128 (GPU 0)]\n",
       "        (73): Parameter containing: [torch.cuda.FloatTensor of size 128 (GPU 0)]\n",
       "        (74): Parameter containing: [torch.cuda.FloatTensor of size 128x128 (GPU 0)]\n",
       "        (75): Parameter containing: [torch.cuda.FloatTensor of size 128 (GPU 0)]\n",
       "        (76): Parameter containing: [torch.cuda.FloatTensor of size 128x128 (GPU 0)]\n",
       "        (77): Parameter containing: [torch.cuda.FloatTensor of size 128 (GPU 0)]\n",
       "        (78): Parameter containing: [torch.cuda.FloatTensor of size 8x128 (GPU 0)]\n",
       "        (79): Parameter containing: [torch.cuda.FloatTensor of size 8x128 (GPU 0)]\n",
       "        (80): Parameter containing: [torch.cuda.FloatTensor of size 60x8 (GPU 0)]\n",
       "        (81): Parameter containing: [torch.cuda.FloatTensor of size 60 (GPU 0)]\n",
       "        (82): Parameter containing: [torch.cuda.FloatTensor of size 60x8 (GPU 0)]\n",
       "        (83): Parameter containing: [torch.cuda.FloatTensor of size 60 (GPU 0)]\n",
       "    )\n",
       "  ),\n",
       "  'tuple': (array([[0.44077135, 0.43709826, 0.35399449, ..., 0.49816345, 0.50229568,\n",
       "           0.4825528 ],\n",
       "          [0.43709826, 0.35399449, 0.32552801, ..., 0.50229568, 0.4825528 ,\n",
       "           0.42470156],\n",
       "          [0.35399449, 0.32552801, 0.29752066, ..., 0.4825528 , 0.42470156,\n",
       "           0.44582185],\n",
       "          ...,\n",
       "          [0.69605142, 0.61478421, 0.63085399, ..., 0.7056933 , 0.7020202 ,\n",
       "           0.62213039],\n",
       "          [0.61478421, 0.63085399, 0.83379247, ..., 0.7020202 , 0.62213039,\n",
       "           0.68181818],\n",
       "          [0.63085399, 0.83379247, 0.83562902, ..., 0.62213039, 0.68181818,\n",
       "           0.68135904]]),\n",
       "   array([[0.42470156, 0.44582185, 0.37373737, ..., 0.62396694, 0.61524334,\n",
       "           0.48025712],\n",
       "          [0.44582185, 0.37373737, 0.36317723, ..., 0.61524334, 0.48025712,\n",
       "           0.49173554],\n",
       "          [0.37373737, 0.36317723, 0.33103765, ..., 0.48025712, 0.49173554,\n",
       "           0.56703398],\n",
       "          ...,\n",
       "          [0.68181818, 0.68135904, 0.6134068 , ..., 0.58310376, 0.6932966 ,\n",
       "           0.59687787],\n",
       "          [0.68135904, 0.6134068 , 0.89118457, ..., 0.6932966 , 0.59687787,\n",
       "           0.54637282],\n",
       "          [0.6134068 , 0.89118457, 0.95775941, ..., 0.59687787, 0.54637282,\n",
       "           0.70247934]]),\n",
       "   NBeatsNet(\n",
       "     (parameters): ParameterList(\n",
       "         (0): Parameter containing: [torch.cuda.FloatTensor of size 128x60 (GPU 0)]\n",
       "         (1): Parameter containing: [torch.cuda.FloatTensor of size 128 (GPU 0)]\n",
       "         (2): Parameter containing: [torch.cuda.FloatTensor of size 128x128 (GPU 0)]\n",
       "         (3): Parameter containing: [torch.cuda.FloatTensor of size 128 (GPU 0)]\n",
       "         (4): Parameter containing: [torch.cuda.FloatTensor of size 128x128 (GPU 0)]\n",
       "         (5): Parameter containing: [torch.cuda.FloatTensor of size 128 (GPU 0)]\n",
       "         (6): Parameter containing: [torch.cuda.FloatTensor of size 128x128 (GPU 0)]\n",
       "         (7): Parameter containing: [torch.cuda.FloatTensor of size 128 (GPU 0)]\n",
       "         (8): Parameter containing: [torch.cuda.FloatTensor of size 7x128 (GPU 0)]\n",
       "         (9): Parameter containing: [torch.cuda.FloatTensor of size 7x128 (GPU 0)]\n",
       "         (10): Parameter containing: [torch.cuda.FloatTensor of size 60x7 (GPU 0)]\n",
       "         (11): Parameter containing: [torch.cuda.FloatTensor of size 60 (GPU 0)]\n",
       "         (12): Parameter containing: [torch.cuda.FloatTensor of size 60x7 (GPU 0)]\n",
       "         (13): Parameter containing: [torch.cuda.FloatTensor of size 60 (GPU 0)]\n",
       "         (14): Parameter containing: [torch.cuda.FloatTensor of size 128x60 (GPU 0)]\n",
       "         (15): Parameter containing: [torch.cuda.FloatTensor of size 128 (GPU 0)]\n",
       "         (16): Parameter containing: [torch.cuda.FloatTensor of size 128x128 (GPU 0)]\n",
       "         (17): Parameter containing: [torch.cuda.FloatTensor of size 128 (GPU 0)]\n",
       "         (18): Parameter containing: [torch.cuda.FloatTensor of size 128x128 (GPU 0)]\n",
       "         (19): Parameter containing: [torch.cuda.FloatTensor of size 128 (GPU 0)]\n",
       "         (20): Parameter containing: [torch.cuda.FloatTensor of size 128x128 (GPU 0)]\n",
       "         (21): Parameter containing: [torch.cuda.FloatTensor of size 128 (GPU 0)]\n",
       "         (22): Parameter containing: [torch.cuda.FloatTensor of size 7x128 (GPU 0)]\n",
       "         (23): Parameter containing: [torch.cuda.FloatTensor of size 7x128 (GPU 0)]\n",
       "         (24): Parameter containing: [torch.cuda.FloatTensor of size 60x7 (GPU 0)]\n",
       "         (25): Parameter containing: [torch.cuda.FloatTensor of size 60 (GPU 0)]\n",
       "         (26): Parameter containing: [torch.cuda.FloatTensor of size 60x7 (GPU 0)]\n",
       "         (27): Parameter containing: [torch.cuda.FloatTensor of size 60 (GPU 0)]\n",
       "         (28): Parameter containing: [torch.cuda.FloatTensor of size 128x60 (GPU 0)]\n",
       "         (29): Parameter containing: [torch.cuda.FloatTensor of size 128 (GPU 0)]\n",
       "         (30): Parameter containing: [torch.cuda.FloatTensor of size 128x128 (GPU 0)]\n",
       "         (31): Parameter containing: [torch.cuda.FloatTensor of size 128 (GPU 0)]\n",
       "         (32): Parameter containing: [torch.cuda.FloatTensor of size 128x128 (GPU 0)]\n",
       "         (33): Parameter containing: [torch.cuda.FloatTensor of size 128 (GPU 0)]\n",
       "         (34): Parameter containing: [torch.cuda.FloatTensor of size 128x128 (GPU 0)]\n",
       "         (35): Parameter containing: [torch.cuda.FloatTensor of size 128 (GPU 0)]\n",
       "         (36): Parameter containing: [torch.cuda.FloatTensor of size 7x128 (GPU 0)]\n",
       "         (37): Parameter containing: [torch.cuda.FloatTensor of size 7x128 (GPU 0)]\n",
       "         (38): Parameter containing: [torch.cuda.FloatTensor of size 60x7 (GPU 0)]\n",
       "         (39): Parameter containing: [torch.cuda.FloatTensor of size 60 (GPU 0)]\n",
       "         (40): Parameter containing: [torch.cuda.FloatTensor of size 60x7 (GPU 0)]\n",
       "         (41): Parameter containing: [torch.cuda.FloatTensor of size 60 (GPU 0)]\n",
       "         (42): Parameter containing: [torch.cuda.FloatTensor of size 128x60 (GPU 0)]\n",
       "         (43): Parameter containing: [torch.cuda.FloatTensor of size 128 (GPU 0)]\n",
       "         (44): Parameter containing: [torch.cuda.FloatTensor of size 128x128 (GPU 0)]\n",
       "         (45): Parameter containing: [torch.cuda.FloatTensor of size 128 (GPU 0)]\n",
       "         (46): Parameter containing: [torch.cuda.FloatTensor of size 128x128 (GPU 0)]\n",
       "         (47): Parameter containing: [torch.cuda.FloatTensor of size 128 (GPU 0)]\n",
       "         (48): Parameter containing: [torch.cuda.FloatTensor of size 128x128 (GPU 0)]\n",
       "         (49): Parameter containing: [torch.cuda.FloatTensor of size 128 (GPU 0)]\n",
       "         (50): Parameter containing: [torch.cuda.FloatTensor of size 8x128 (GPU 0)]\n",
       "         (51): Parameter containing: [torch.cuda.FloatTensor of size 8x128 (GPU 0)]\n",
       "         (52): Parameter containing: [torch.cuda.FloatTensor of size 60x8 (GPU 0)]\n",
       "         (53): Parameter containing: [torch.cuda.FloatTensor of size 60 (GPU 0)]\n",
       "         (54): Parameter containing: [torch.cuda.FloatTensor of size 60x8 (GPU 0)]\n",
       "         (55): Parameter containing: [torch.cuda.FloatTensor of size 60 (GPU 0)]\n",
       "         (56): Parameter containing: [torch.cuda.FloatTensor of size 128x60 (GPU 0)]\n",
       "         (57): Parameter containing: [torch.cuda.FloatTensor of size 128 (GPU 0)]\n",
       "         (58): Parameter containing: [torch.cuda.FloatTensor of size 128x128 (GPU 0)]\n",
       "         (59): Parameter containing: [torch.cuda.FloatTensor of size 128 (GPU 0)]\n",
       "         (60): Parameter containing: [torch.cuda.FloatTensor of size 128x128 (GPU 0)]\n",
       "         (61): Parameter containing: [torch.cuda.FloatTensor of size 128 (GPU 0)]\n",
       "         (62): Parameter containing: [torch.cuda.FloatTensor of size 128x128 (GPU 0)]\n",
       "         (63): Parameter containing: [torch.cuda.FloatTensor of size 128 (GPU 0)]\n",
       "         (64): Parameter containing: [torch.cuda.FloatTensor of size 8x128 (GPU 0)]\n",
       "         (65): Parameter containing: [torch.cuda.FloatTensor of size 8x128 (GPU 0)]\n",
       "         (66): Parameter containing: [torch.cuda.FloatTensor of size 60x8 (GPU 0)]\n",
       "         (67): Parameter containing: [torch.cuda.FloatTensor of size 60 (GPU 0)]\n",
       "         (68): Parameter containing: [torch.cuda.FloatTensor of size 60x8 (GPU 0)]\n",
       "         (69): Parameter containing: [torch.cuda.FloatTensor of size 60 (GPU 0)]\n",
       "         (70): Parameter containing: [torch.cuda.FloatTensor of size 128x60 (GPU 0)]\n",
       "         (71): Parameter containing: [torch.cuda.FloatTensor of size 128 (GPU 0)]\n",
       "         (72): Parameter containing: [torch.cuda.FloatTensor of size 128x128 (GPU 0)]\n",
       "         (73): Parameter containing: [torch.cuda.FloatTensor of size 128 (GPU 0)]\n",
       "         (74): Parameter containing: [torch.cuda.FloatTensor of size 128x128 (GPU 0)]\n",
       "         (75): Parameter containing: [torch.cuda.FloatTensor of size 128 (GPU 0)]\n",
       "         (76): Parameter containing: [torch.cuda.FloatTensor of size 128x128 (GPU 0)]\n",
       "         (77): Parameter containing: [torch.cuda.FloatTensor of size 128 (GPU 0)]\n",
       "         (78): Parameter containing: [torch.cuda.FloatTensor of size 8x128 (GPU 0)]\n",
       "         (79): Parameter containing: [torch.cuda.FloatTensor of size 8x128 (GPU 0)]\n",
       "         (80): Parameter containing: [torch.cuda.FloatTensor of size 60x8 (GPU 0)]\n",
       "         (81): Parameter containing: [torch.cuda.FloatTensor of size 60 (GPU 0)]\n",
       "         (82): Parameter containing: [torch.cuda.FloatTensor of size 60x8 (GPU 0)]\n",
       "         (83): Parameter containing: [torch.cuda.FloatTensor of size 60 (GPU 0)]\n",
       "     )\n",
       "   ),\n",
       "   217.8)},\n",
       " 'Prophet': <fbprophet.forecaster.Prophet at 0x7f9c1a0fbd68>,\n",
       " 'TATS': <tbats.tbats.Model.Model at 0x7f9c1a06b400>,\n",
       " 'TBATP1': <tbats.tbats.Model.Model at 0x7f9c1a0285c0>,\n",
       " 'TBATS1': <tbats.tbats.Model.Model at 0x7f9c1a042940>,\n",
       " 'TBATS2': <tbats.tbats.Model.Model at 0x7f9c1a073048>}"
      ]
     },
     "execution_count": 26,
     "metadata": {
      "tags": []
     },
     "output_type": "execute_result"
    }
   ],
   "source": [
    "am.models_dict_out"
   ]
  }
 ],
 "metadata": {
  "accelerator": "GPU",
  "colab": {
   "name": "Time_Series.ipynb",
   "provenance": []
  },
  "kernelspec": {
   "display_name": "Python 3",
   "language": "python",
   "name": "python3"
  },
  "language_info": {
   "codemirror_mode": {
    "name": "ipython",
    "version": 3
   },
   "file_extension": ".py",
   "mimetype": "text/x-python",
   "name": "python",
   "nbconvert_exporter": "python",
   "pygments_lexer": "ipython3",
   "version": "3.8.5"
  }
 },
 "nbformat": 4,
 "nbformat_minor": 1
}
